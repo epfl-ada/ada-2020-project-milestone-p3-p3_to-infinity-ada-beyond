{
 "cells": [
  {
   "cell_type": "code",
   "execution_count": 1,
   "metadata": {},
   "outputs": [],
   "source": [
    "import numpy as np\n",
    "import pandas as pd\n",
    "import matplotlib.pyplot as plt"
   ]
  },
  {
   "cell_type": "code",
   "execution_count": 2,
   "metadata": {
    "collapsed": false,
    "jupyter": {
     "outputs_hidden": false
    },
    "pycharm": {
     "name": "#%%\n"
    }
   },
   "outputs": [],
   "source": [
    "# Path\n",
    "DATA_FOLDER = './Data/'\n",
    "NYC = DATA_FOLDER+'dataset_TSMC2014_NYC.txt'\n",
    "TKY = DATA_FOLDER+'dataset_TSMC2014_TKY.txt'\n",
    "\n",
    "# Loading data\n",
    "nyc = pd.read_csv(NYC, header = None, sep='\\t', engine='python',\n",
    "                  names=['user_ID', 'venue_ID', 'venue_category_ID','venue_category_name',\n",
    "                         'latitude', 'longitude', 'offset', 'UTC_time'])\n",
    "tky = pd.read_csv(TKY, header = None, sep='\\t', engine='python',\n",
    "                  names=['user_ID', 'venue_ID', 'venue_category_ID','venue_category_name',\n",
    "                         'latitude', 'longitude', 'offset', 'UTC_time'])"
   ]
  },
  {
   "cell_type": "code",
   "execution_count": 3,
   "metadata": {
    "collapsed": false,
    "jupyter": {
     "outputs_hidden": false
    },
    "pycharm": {
     "name": "#%%\n"
    }
   },
   "outputs": [
    {
     "data": {
      "text/html": [
       "<div>\n",
       "<style scoped>\n",
       "    .dataframe tbody tr th:only-of-type {\n",
       "        vertical-align: middle;\n",
       "    }\n",
       "\n",
       "    .dataframe tbody tr th {\n",
       "        vertical-align: top;\n",
       "    }\n",
       "\n",
       "    .dataframe thead th {\n",
       "        text-align: right;\n",
       "    }\n",
       "</style>\n",
       "<table border=\"1\" class=\"dataframe\">\n",
       "  <thead>\n",
       "    <tr style=\"text-align: right;\">\n",
       "      <th></th>\n",
       "      <th>user_ID</th>\n",
       "      <th>venue_ID</th>\n",
       "      <th>venue_category_ID</th>\n",
       "      <th>venue_category_name</th>\n",
       "      <th>latitude</th>\n",
       "      <th>longitude</th>\n",
       "      <th>offset</th>\n",
       "      <th>UTC_time</th>\n",
       "    </tr>\n",
       "  </thead>\n",
       "  <tbody>\n",
       "    <tr>\n",
       "      <th>0</th>\n",
       "      <td>470</td>\n",
       "      <td>49bbd6c0f964a520f4531fe3</td>\n",
       "      <td>4bf58dd8d48988d127951735</td>\n",
       "      <td>Arts &amp; Crafts Store</td>\n",
       "      <td>40.719810</td>\n",
       "      <td>-74.002581</td>\n",
       "      <td>-240</td>\n",
       "      <td>Tue Apr 03 18:00:09 +0000 2012</td>\n",
       "    </tr>\n",
       "    <tr>\n",
       "      <th>1</th>\n",
       "      <td>979</td>\n",
       "      <td>4a43c0aef964a520c6a61fe3</td>\n",
       "      <td>4bf58dd8d48988d1df941735</td>\n",
       "      <td>Bridge</td>\n",
       "      <td>40.606800</td>\n",
       "      <td>-74.044170</td>\n",
       "      <td>-240</td>\n",
       "      <td>Tue Apr 03 18:00:25 +0000 2012</td>\n",
       "    </tr>\n",
       "    <tr>\n",
       "      <th>2</th>\n",
       "      <td>69</td>\n",
       "      <td>4c5cc7b485a1e21e00d35711</td>\n",
       "      <td>4bf58dd8d48988d103941735</td>\n",
       "      <td>Home (private)</td>\n",
       "      <td>40.716162</td>\n",
       "      <td>-73.883070</td>\n",
       "      <td>-240</td>\n",
       "      <td>Tue Apr 03 18:02:24 +0000 2012</td>\n",
       "    </tr>\n",
       "  </tbody>\n",
       "</table>\n",
       "</div>"
      ],
      "text/plain": [
       "   user_ID                  venue_ID         venue_category_ID  \\\n",
       "0      470  49bbd6c0f964a520f4531fe3  4bf58dd8d48988d127951735   \n",
       "1      979  4a43c0aef964a520c6a61fe3  4bf58dd8d48988d1df941735   \n",
       "2       69  4c5cc7b485a1e21e00d35711  4bf58dd8d48988d103941735   \n",
       "\n",
       "   venue_category_name   latitude  longitude  offset  \\\n",
       "0  Arts & Crafts Store  40.719810 -74.002581    -240   \n",
       "1               Bridge  40.606800 -74.044170    -240   \n",
       "2       Home (private)  40.716162 -73.883070    -240   \n",
       "\n",
       "                         UTC_time  \n",
       "0  Tue Apr 03 18:00:09 +0000 2012  \n",
       "1  Tue Apr 03 18:00:25 +0000 2012  \n",
       "2  Tue Apr 03 18:02:24 +0000 2012  "
      ]
     },
     "metadata": {},
     "output_type": "display_data"
    },
    {
     "data": {
      "text/html": [
       "<div>\n",
       "<style scoped>\n",
       "    .dataframe tbody tr th:only-of-type {\n",
       "        vertical-align: middle;\n",
       "    }\n",
       "\n",
       "    .dataframe tbody tr th {\n",
       "        vertical-align: top;\n",
       "    }\n",
       "\n",
       "    .dataframe thead th {\n",
       "        text-align: right;\n",
       "    }\n",
       "</style>\n",
       "<table border=\"1\" class=\"dataframe\">\n",
       "  <thead>\n",
       "    <tr style=\"text-align: right;\">\n",
       "      <th></th>\n",
       "      <th>user_ID</th>\n",
       "      <th>venue_ID</th>\n",
       "      <th>venue_category_ID</th>\n",
       "      <th>venue_category_name</th>\n",
       "      <th>latitude</th>\n",
       "      <th>longitude</th>\n",
       "      <th>offset</th>\n",
       "      <th>UTC_time</th>\n",
       "    </tr>\n",
       "  </thead>\n",
       "  <tbody>\n",
       "    <tr>\n",
       "      <th>0</th>\n",
       "      <td>1541</td>\n",
       "      <td>4f0fd5a8e4b03856eeb6c8cb</td>\n",
       "      <td>4bf58dd8d48988d10c951735</td>\n",
       "      <td>Cosmetics Shop</td>\n",
       "      <td>35.705101</td>\n",
       "      <td>139.619590</td>\n",
       "      <td>540</td>\n",
       "      <td>Tue Apr 03 18:17:18 +0000 2012</td>\n",
       "    </tr>\n",
       "    <tr>\n",
       "      <th>1</th>\n",
       "      <td>868</td>\n",
       "      <td>4b7b884ff964a5207d662fe3</td>\n",
       "      <td>4bf58dd8d48988d1d1941735</td>\n",
       "      <td>Ramen /  Noodle House</td>\n",
       "      <td>35.715581</td>\n",
       "      <td>139.800317</td>\n",
       "      <td>540</td>\n",
       "      <td>Tue Apr 03 18:22:04 +0000 2012</td>\n",
       "    </tr>\n",
       "    <tr>\n",
       "      <th>2</th>\n",
       "      <td>114</td>\n",
       "      <td>4c16fdda96040f477cc473a5</td>\n",
       "      <td>4d954b0ea243a5684a65b473</td>\n",
       "      <td>Convenience Store</td>\n",
       "      <td>35.714542</td>\n",
       "      <td>139.480065</td>\n",
       "      <td>540</td>\n",
       "      <td>Tue Apr 03 19:12:07 +0000 2012</td>\n",
       "    </tr>\n",
       "  </tbody>\n",
       "</table>\n",
       "</div>"
      ],
      "text/plain": [
       "   user_ID                  venue_ID         venue_category_ID  \\\n",
       "0     1541  4f0fd5a8e4b03856eeb6c8cb  4bf58dd8d48988d10c951735   \n",
       "1      868  4b7b884ff964a5207d662fe3  4bf58dd8d48988d1d1941735   \n",
       "2      114  4c16fdda96040f477cc473a5  4d954b0ea243a5684a65b473   \n",
       "\n",
       "     venue_category_name   latitude   longitude  offset  \\\n",
       "0         Cosmetics Shop  35.705101  139.619590     540   \n",
       "1  Ramen /  Noodle House  35.715581  139.800317     540   \n",
       "2      Convenience Store  35.714542  139.480065     540   \n",
       "\n",
       "                         UTC_time  \n",
       "0  Tue Apr 03 18:17:18 +0000 2012  \n",
       "1  Tue Apr 03 18:22:04 +0000 2012  \n",
       "2  Tue Apr 03 19:12:07 +0000 2012  "
      ]
     },
     "metadata": {},
     "output_type": "display_data"
    }
   ],
   "source": [
    "display(nyc.head(3))\n",
    "display(tky.head(3))"
   ]
  },
  {
   "cell_type": "markdown",
   "metadata": {
    "jupyter": {
     "outputs_hidden": false
    },
    "pycharm": {
     "name": "#%%"
    }
   },
   "source": [
    "### Converting longitude and latitude into km values\n",
    "\n",
    "Similar to the Friendship and Mobility paper, we are estimating the home location of a user based on their check-in locations. This is accomplished by dividing our two cities into a grid, of size N by N km. N is the length of one unit in the grid and can be considered to be a design parameter. \n",
    "\n",
    "This is done by using the following conversions:\n",
    "\n",
    "Latitude 1°: 110.574 km  \n",
    "Longtiude: 1°: 111.320*cos(latitude) km"
   ]
  },
  {
   "cell_type": "code",
   "execution_count": 8,
   "metadata": {},
   "outputs": [],
   "source": [
    "# The grid cells are discrete so we are rounding to the closest cell\n",
    "\n",
    "def lat2km(lat, N):\n",
    "    # Convert a latitude value to a 25 km grid\n",
    "    km = np.round((110.574*lat)/N)\n",
    "    return km\n",
    "    \n",
    "def long2km(long, lat, N):\n",
    "    # Convert a longitude value to a 25 km grid \n",
    "    km = np.round((110.320 * long * np.cos(np.deg2rad(lat)))/N)\n",
    "    return km\n",
    "                  "
   ]
  },
  {
   "cell_type": "code",
   "execution_count": 30,
   "metadata": {},
   "outputs": [],
   "source": [
    "N = 0.5\n",
    "nyc['x_grid'] = long2km(nyc.longitude, nyc.latitude, N)\n",
    "nyc['y_grid'] = lat2km(nyc.latitude, N)\n",
    "\n",
    "tky['x_grid'] = long2km(tky.longitude, tky.latitude, N)\n",
    "tky['y_grid'] = lat2km(tky.latitude, N)"
   ]
  },
  {
   "cell_type": "code",
   "execution_count": 31,
   "metadata": {},
   "outputs": [],
   "source": [
    "# # The home locations can be obtained by counting the most common x and y cells for each user\n",
    "# # This is done by storing the mode of each user's check-in cell's x and y coordinates.\n",
    "nyc_homes = pd.DataFrame()\n",
    "nyc_homes['x_cord'] = nyc.groupby(['user_ID'])['x_grid'].apply(pd.Series.mode)\n",
    "nyc_homes['y_cord'] = nyc.groupby(['user_ID'])['y_grid'].apply(pd.Series.mode)\n",
    "nyc_homes = nyc_homes.reset_index().drop(['level_1'], axis=1) # get rid of multiindex\n",
    "\n",
    "tky_homes = pd.DataFrame()\n",
    "tky_homes['x_cord'] = tky.groupby(['user_ID'])['x_grid'].apply(pd.Series.mode)\n",
    "tky_homes['y_cord'] = tky.groupby(['user_ID'])['y_grid'].apply(pd.Series.mode)\n",
    "tky_homes = tky_homes.reset_index().drop(['level_1'], axis=1)"
   ]
  },
  {
   "cell_type": "markdown",
   "metadata": {},
   "source": [
    "##### __Motivation for getting estimated home longitude and latitude__\n",
    "The dataframes for the homes have the x and y coordinates for the cell within the grid with the most check-ins. We estimate the home position by using the average longitude and latitude for check-ins within this cell for each user. "
   ]
  },
  {
   "cell_type": "code",
   "execution_count": 32,
   "metadata": {},
   "outputs": [],
   "source": [
    "# Combine the dataframes by merging on multiple columns; this keeps only the checkins in the 'home' cell. \n",
    "nyc_homes = pd.merge(nyc_homes, nyc, how = 'left', left_on=['user_ID', 'x_cord', 'y_cord'], right_on=['user_ID', 'x_grid', 'y_grid'])\n",
    "\n",
    "# Obtain the mean longtitude and latitude for the users' estimated home location\n",
    "nyc_homes = nyc_homes.groupby('user_ID')[['longitude', 'latitude']].mean()\n",
    "\n",
    "tky_homes = pd.merge(tky_homes, tky, how = 'left', left_on=['user_ID', 'x_cord', 'y_cord'], right_on= ['user_ID', 'x_grid', 'y_grid'])\n",
    "tky_homes = tky_homes.groupby('user_ID')[['longitude', 'latitude']].mean()"
   ]
  },
  {
   "cell_type": "code",
   "execution_count": 33,
   "metadata": {},
   "outputs": [
    {
     "data": {
      "text/html": [
       "<div>\n",
       "<style scoped>\n",
       "    .dataframe tbody tr th:only-of-type {\n",
       "        vertical-align: middle;\n",
       "    }\n",
       "\n",
       "    .dataframe tbody tr th {\n",
       "        vertical-align: top;\n",
       "    }\n",
       "\n",
       "    .dataframe thead th {\n",
       "        text-align: right;\n",
       "    }\n",
       "</style>\n",
       "<table border=\"1\" class=\"dataframe\">\n",
       "  <thead>\n",
       "    <tr style=\"text-align: right;\">\n",
       "      <th></th>\n",
       "      <th>longitude</th>\n",
       "      <th>latitude</th>\n",
       "    </tr>\n",
       "    <tr>\n",
       "      <th>user_ID</th>\n",
       "      <th></th>\n",
       "      <th></th>\n",
       "    </tr>\n",
       "  </thead>\n",
       "  <tbody>\n",
       "    <tr>\n",
       "      <th>1</th>\n",
       "      <td>-74.004165</td>\n",
       "      <td>40.719994</td>\n",
       "    </tr>\n",
       "    <tr>\n",
       "      <th>2</th>\n",
       "      <td>-73.913707</td>\n",
       "      <td>40.646648</td>\n",
       "    </tr>\n",
       "    <tr>\n",
       "      <th>3</th>\n",
       "      <td>-73.988551</td>\n",
       "      <td>40.745732</td>\n",
       "    </tr>\n",
       "  </tbody>\n",
       "</table>\n",
       "</div>"
      ],
      "text/plain": [
       "         longitude   latitude\n",
       "user_ID                      \n",
       "1       -74.004165  40.719994\n",
       "2       -73.913707  40.646648\n",
       "3       -73.988551  40.745732"
      ]
     },
     "metadata": {},
     "output_type": "display_data"
    },
    {
     "data": {
      "text/html": [
       "<div>\n",
       "<style scoped>\n",
       "    .dataframe tbody tr th:only-of-type {\n",
       "        vertical-align: middle;\n",
       "    }\n",
       "\n",
       "    .dataframe tbody tr th {\n",
       "        vertical-align: top;\n",
       "    }\n",
       "\n",
       "    .dataframe thead th {\n",
       "        text-align: right;\n",
       "    }\n",
       "</style>\n",
       "<table border=\"1\" class=\"dataframe\">\n",
       "  <thead>\n",
       "    <tr style=\"text-align: right;\">\n",
       "      <th></th>\n",
       "      <th>longitude</th>\n",
       "      <th>latitude</th>\n",
       "    </tr>\n",
       "    <tr>\n",
       "      <th>user_ID</th>\n",
       "      <th></th>\n",
       "      <th></th>\n",
       "    </tr>\n",
       "  </thead>\n",
       "  <tbody>\n",
       "    <tr>\n",
       "      <th>1</th>\n",
       "      <td>139.773418</td>\n",
       "      <td>35.698775</td>\n",
       "    </tr>\n",
       "    <tr>\n",
       "      <th>2</th>\n",
       "      <td>139.698197</td>\n",
       "      <td>35.658062</td>\n",
       "    </tr>\n",
       "    <tr>\n",
       "      <th>3</th>\n",
       "      <td>139.600839</td>\n",
       "      <td>35.668477</td>\n",
       "    </tr>\n",
       "  </tbody>\n",
       "</table>\n",
       "</div>"
      ],
      "text/plain": [
       "          longitude   latitude\n",
       "user_ID                       \n",
       "1        139.773418  35.698775\n",
       "2        139.698197  35.658062\n",
       "3        139.600839  35.668477"
      ]
     },
     "metadata": {},
     "output_type": "display_data"
    }
   ],
   "source": [
    "display(nyc_homes.head(3))\n",
    "display(tky_homes.head(3))"
   ]
  },
  {
   "cell_type": "code",
   "execution_count": null,
   "metadata": {},
   "outputs": [],
   "source": [
    "# Calculate distance between two pairs of long/lat coordinates. \n",
    "# Solution from: https://stackoverflow.com/questions/29545704/fast-haversine-approximation-python-pandas/29546836#29546836\n",
    "\n",
    "def haversine_np(lon1, lat1, lon2, lat2):\n",
    "    \"\"\"\n",
    "    Calculate the great circle distance between two points\n",
    "    on the earth (specified in decimal degrees)\n",
    "\n",
    "    All args must be of equal length.    \n",
    "\n",
    "    \"\"\"\n",
    "    lon1, lat1, lon2, lat2 = map(np.radians, [lon1, lat1, lon2, lat2])\n",
    "\n",
    "    dlon = lon2 - lon1\n",
    "    dlat = lat2 - lat1\n",
    "\n",
    "    a = np.sin(dlat/2.0)**2 + np.cos(lat1) * np.cos(lat2) * np.sin(dlon/2.0)**2\n",
    "\n",
    "    c = 2 * np.arcsin(np.sqrt(a))\n",
    "    km = 6367 * c\n",
    "    return km\n"
   ]
  }
 ],
 "metadata": {
  "kernelspec": {
   "display_name": "Python 3",
   "language": "python",
   "name": "python3"
  },
  "language_info": {
   "codemirror_mode": {
    "name": "ipython",
    "version": 3
   },
   "file_extension": ".py",
   "mimetype": "text/x-python",
   "name": "python",
   "nbconvert_exporter": "python",
   "pygments_lexer": "ipython3",
   "version": "3.8.3"
  }
 },
 "nbformat": 4,
 "nbformat_minor": 4
}
