{
 "cells": [
  {
   "cell_type": "code",
   "execution_count": null,
   "metadata": {},
   "outputs": [],
   "source": [
    "import numpy as np\n",
    "import pandas as pd\n",
    "import matplotlib.pyplot as plt"
   ]
  },
  {
   "cell_type": "code",
   "execution_count": null,
   "outputs": [],
   "source": [
    "# Path\n",
    "DATA_FOLDER = './Data/'\n",
    "NYC = DATA_FOLDER+'dataset_TSMC2014_NYC.txt'\n",
    "TKY = DATA_FOLDER+'dataset_TSMC2014_TKY.txt'\n",
    "\n",
    "# Loading data\n",
    "nyc = pd.read_csv(NYC, header = None, sep='\\t', engine='python',\n",
    "                  names=['user_ID', 'venue_ID', 'venue_category_ID','venue_category_name',\n",
    "                         'latitude', 'longitude', 'offset', 'UTC_time'])\n",
    "tky = pd.read_csv(TKY, header = None, sep='\\t', engine='python',\n",
    "                  names=['user_ID', 'venue_ID', 'venue_category_ID','venue_category_name',\n",
    "                         'latitude', 'longitude', 'offset', 'UTC_time'])"
   ],
   "metadata": {
    "collapsed": false,
    "pycharm": {
     "name": "#%%\n"
    }
   }
  },
  {
   "cell_type": "code",
   "execution_count": null,
   "outputs": [],
   "source": [
    "display(nyc.head())\n",
    "display(tky.head())"
   ],
   "metadata": {
    "collapsed": false,
    "pycharm": {
     "name": "#%%\n"
    }
   }
  },
  {
   "cell_type": "code",
   "execution_count": null,
   "outputs": [],
   "source": [],
   "metadata": {
    "collapsed": false,
    "pycharm": {
     "name": "#%%"
    }
   }
  }
 ],
 "metadata": {
  "kernelspec": {
   "display_name": "Python 3",
   "language": "python",
   "name": "python3"
  },
  "language_info": {
   "codemirror_mode": {
    "name": "ipython",
    "version": 3
   },
   "file_extension": ".py",
   "mimetype": "text/x-python",
   "name": "python",
   "nbconvert_exporter": "python",
   "pygments_lexer": "ipython3",
   "version": "3.8.5"
  }
 },
 "nbformat": 4,
 "nbformat_minor": 4
}